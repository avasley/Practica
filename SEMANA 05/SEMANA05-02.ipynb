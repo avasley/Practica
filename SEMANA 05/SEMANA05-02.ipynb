{
 "cells": [
  {
   "cell_type": "markdown",
   "id": "d34c9036",
   "metadata": {},
   "source": [
    "# Semana 05\n",
    "Vasquez Leyva Antony\n"
   ]
  },
  {
   "cell_type": "markdown",
   "id": "0775d33e",
   "metadata": {},
   "source": [
    "#Tema:\n",
    "1. Números\n",
    "2. Variables\n",
    "3. Manejo de Cadenas\n",
    "4. Ingreso de datos por teclado\n",
    "5. Operadores"
   ]
  },
  {
   "cell_type": "code",
   "execution_count": 1,
   "id": "4e74326b",
   "metadata": {},
   "outputs": [
    {
     "ename": "SyntaxError",
     "evalue": "invalid syntax (Temp/ipykernel_9276/3305000132.py, line 1)",
     "output_type": "error",
     "traceback": [
      "\u001b[1;36m  File \u001b[1;32m\"C:\\Users\\ANTONY\\AppData\\Local\\Temp/ipykernel_9276/3305000132.py\"\u001b[1;36m, line \u001b[1;32m1\u001b[0m\n\u001b[1;33m    2. Variables.\u001b[0m\n\u001b[1;37m       ^\u001b[0m\n\u001b[1;31mSyntaxError\u001b[0m\u001b[1;31m:\u001b[0m invalid syntax\n"
     ]
    }
   ],
   "source": [
    "2. Variables."
   ]
  },
  {
   "cell_type": "code",
   "execution_count": 2,
   "id": "3b4816d9",
   "metadata": {},
   "outputs": [
    {
     "ename": "SyntaxError",
     "evalue": "invalid syntax (Temp/ipykernel_9276/2155758123.py, line 1)",
     "output_type": "error",
     "traceback": [
      "\u001b[1;36m  File \u001b[1;32m\"C:\\Users\\ANTONY\\AppData\\Local\\Temp/ipykernel_9276/2155758123.py\"\u001b[1;36m, line \u001b[1;32m1\u001b[0m\n\u001b[1;33m    Siempre deben iniciar con una letra o un guión abajo. (nunca con un número u otro símbolo)\u001b[0m\n\u001b[1;37m            ^\u001b[0m\n\u001b[1;31mSyntaxError\u001b[0m\u001b[1;31m:\u001b[0m invalid syntax\n"
     ]
    }
   ],
   "source": [
    "Siempre deben iniciar con una letra o un guión abajo. (nunca con un número u otro símbolo)"
   ]
  },
  {
   "cell_type": "code",
   "execution_count": 3,
   "id": "8fc61f79",
   "metadata": {},
   "outputs": [],
   "source": [
    "edad = 22"
   ]
  },
  {
   "cell_type": "code",
   "execution_count": 4,
   "id": "09f81fc3",
   "metadata": {},
   "outputs": [
    {
     "data": {
      "text/plain": [
       "22"
      ]
     },
     "execution_count": 4,
     "metadata": {},
     "output_type": "execute_result"
    }
   ],
   "source": [
    "edad"
   ]
  },
  {
   "cell_type": "code",
   "execution_count": 5,
   "id": "526772dd",
   "metadata": {},
   "outputs": [],
   "source": [
    "nombre = \"Antony\""
   ]
  },
  {
   "cell_type": "code",
   "execution_count": 6,
   "id": "645ad3a8",
   "metadata": {},
   "outputs": [
    {
     "data": {
      "text/plain": [
       "'Antony'"
      ]
     },
     "execution_count": 6,
     "metadata": {},
     "output_type": "execute_result"
    }
   ],
   "source": [
    "nombre"
   ]
  },
  {
   "cell_type": "code",
   "execution_count": 7,
   "id": "3f2c2547",
   "metadata": {},
   "outputs": [],
   "source": [
    "apellido = \"Vasquez Leyva\""
   ]
  },
  {
   "cell_type": "code",
   "execution_count": 8,
   "id": "3d04a715",
   "metadata": {},
   "outputs": [
    {
     "data": {
      "text/plain": [
       "'Vasquez Leyva'"
      ]
     },
     "execution_count": 8,
     "metadata": {},
     "output_type": "execute_result"
    }
   ],
   "source": [
    "apellido"
   ]
  },
  {
   "cell_type": "code",
   "execution_count": 9,
   "id": "d6b9bc90",
   "metadata": {},
   "outputs": [],
   "source": [
    "nombrecompleto = nombre + apellido"
   ]
  },
  {
   "cell_type": "code",
   "execution_count": 10,
   "id": "b9fd9213",
   "metadata": {},
   "outputs": [
    {
     "data": {
      "text/plain": [
       "'AntonyVasquez Leyva'"
      ]
     },
     "execution_count": 10,
     "metadata": {},
     "output_type": "execute_result"
    }
   ],
   "source": [
    "nombrecompleto"
   ]
  },
  {
   "cell_type": "code",
   "execution_count": 11,
   "id": "d4b016ba",
   "metadata": {},
   "outputs": [
    {
     "ename": "NameError",
     "evalue": "name 'pellido' is not defined",
     "output_type": "error",
     "traceback": [
      "\u001b[1;31m---------------------------------------------------------------------------\u001b[0m",
      "\u001b[1;31mNameError\u001b[0m                                 Traceback (most recent call last)",
      "\u001b[1;32m~\\AppData\\Local\\Temp/ipykernel_9276/4147498247.py\u001b[0m in \u001b[0;36m<module>\u001b[1;34m\u001b[0m\n\u001b[1;32m----> 1\u001b[1;33m \u001b[0mnombrecompleto\u001b[0m \u001b[1;33m=\u001b[0m \u001b[0mnombre\u001b[0m \u001b[1;33m+\u001b[0m \u001b[1;34m\" \"\u001b[0m \u001b[1;33m+\u001b[0m \u001b[0mpellido\u001b[0m\u001b[1;33m\u001b[0m\u001b[1;33m\u001b[0m\u001b[0m\n\u001b[0m",
      "\u001b[1;31mNameError\u001b[0m: name 'pellido' is not defined"
     ]
    }
   ],
   "source": [
    "nombrecompleto = nombre + \" \" + pellido"
   ]
  },
  {
   "cell_type": "code",
   "execution_count": 12,
   "id": "7e9cacea",
   "metadata": {},
   "outputs": [],
   "source": [
    "nombrecompleto = nombre + \" \" + apellido"
   ]
  },
  {
   "cell_type": "code",
   "execution_count": 13,
   "id": "aa88fcc7",
   "metadata": {},
   "outputs": [
    {
     "data": {
      "text/plain": [
       "'Antony Vasquez Leyva'"
      ]
     },
     "execution_count": 13,
     "metadata": {},
     "output_type": "execute_result"
    }
   ],
   "source": [
    "nombrecompleto"
   ]
  },
  {
   "cell_type": "markdown",
   "id": "e309c801",
   "metadata": {},
   "source": [
    "# Para saber el tipo de variable utilizamos la funcion type()\n",
    "# Por ejemplo:\n"
   ]
  },
  {
   "cell_type": "code",
   "execution_count": 14,
   "id": "bd1171cf",
   "metadata": {},
   "outputs": [
    {
     "data": {
      "text/plain": [
       "int"
      ]
     },
     "execution_count": 14,
     "metadata": {},
     "output_type": "execute_result"
    }
   ],
   "source": [
    "numero = 50\n",
    "type(numero)\n"
   ]
  },
  {
   "cell_type": "code",
   "execution_count": 15,
   "id": "8fd4b852",
   "metadata": {},
   "outputs": [
    {
     "data": {
      "text/plain": [
       "str"
      ]
     },
     "execution_count": 15,
     "metadata": {},
     "output_type": "execute_result"
    }
   ],
   "source": [
    "type(nombre)"
   ]
  },
  {
   "cell_type": "code",
   "execution_count": 16,
   "id": "52737c0e",
   "metadata": {},
   "outputs": [],
   "source": [
    "talla = 1.63"
   ]
  },
  {
   "cell_type": "code",
   "execution_count": 17,
   "id": "82e60530",
   "metadata": {},
   "outputs": [
    {
     "data": {
      "text/plain": [
       "float"
      ]
     },
     "execution_count": 17,
     "metadata": {},
     "output_type": "execute_result"
    }
   ],
   "source": [
    "type(talla)"
   ]
  },
  {
   "cell_type": "code",
   "execution_count": 18,
   "id": "6f960e0f",
   "metadata": {},
   "outputs": [],
   "source": [
    "# para convertir un numero en cadena utilizamos str()\n"
   ]
  },
  {
   "cell_type": "code",
   "execution_count": 19,
   "id": "d2c1801f",
   "metadata": {},
   "outputs": [
    {
     "data": {
      "text/plain": [
       "'100'"
      ]
     },
     "execution_count": 19,
     "metadata": {},
     "output_type": "execute_result"
    }
   ],
   "source": [
    "numero = 100\n",
    "cadena = str(numero)\n",
    "cadena"
   ]
  },
  {
   "cell_type": "code",
   "execution_count": 20,
   "id": "afe2e083",
   "metadata": {},
   "outputs": [
    {
     "data": {
      "text/plain": [
       "str"
      ]
     },
     "execution_count": 20,
     "metadata": {},
     "output_type": "execute_result"
    }
   ],
   "source": [
    "type(cadena)"
   ]
  },
  {
   "cell_type": "code",
   "execution_count": 21,
   "id": "c5eda2c8",
   "metadata": {},
   "outputs": [
    {
     "data": {
      "text/plain": [
       "50"
      ]
     },
     "execution_count": 21,
     "metadata": {},
     "output_type": "execute_result"
    }
   ],
   "source": [
    "# Para convertir una cadena en un entero utilizamos int()\n",
    "cadena2 = \"50\"\n",
    "numero2 = int(cadena2)\n",
    "numero2"
   ]
  },
  {
   "cell_type": "code",
   "execution_count": 22,
   "id": "7127b4b3",
   "metadata": {},
   "outputs": [
    {
     "data": {
      "text/plain": [
       "int"
      ]
     },
     "execution_count": 22,
     "metadata": {},
     "output_type": "execute_result"
    }
   ],
   "source": [
    "type(numero2)"
   ]
  },
  {
   "cell_type": "code",
   "execution_count": 23,
   "id": "dfc01ad3",
   "metadata": {},
   "outputs": [
    {
     "data": {
      "text/plain": [
       "50.0"
      ]
     },
     "execution_count": 23,
     "metadata": {},
     "output_type": "execute_result"
    }
   ],
   "source": [
    "# Para convertir una cadena a un decimal utilizamos float()\n",
    "cadena2 = \"50\"\n",
    "numero2 = float(cadena2)\n",
    "numero2"
   ]
  },
  {
   "cell_type": "code",
   "execution_count": 24,
   "id": "7b9be290",
   "metadata": {},
   "outputs": [
    {
     "data": {
      "text/plain": [
       "float"
      ]
     },
     "execution_count": 24,
     "metadata": {},
     "output_type": "execute_result"
    }
   ],
   "source": [
    "type(numero2)"
   ]
  },
  {
   "cell_type": "code",
   "execution_count": null,
   "id": "520a3cfa",
   "metadata": {},
   "outputs": [],
   "source": []
  }
 ],
 "metadata": {
  "kernelspec": {
   "display_name": "Python 3 (ipykernel)",
   "language": "python",
   "name": "python3"
  },
  "language_info": {
   "codemirror_mode": {
    "name": "ipython",
    "version": 3
   },
   "file_extension": ".py",
   "mimetype": "text/x-python",
   "name": "python",
   "nbconvert_exporter": "python",
   "pygments_lexer": "ipython3",
   "version": "3.9.7"
  }
 },
 "nbformat": 4,
 "nbformat_minor": 5
}
