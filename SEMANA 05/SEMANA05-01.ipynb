{
 "cells": [
  {
   "cell_type": "markdown",
   "id": "ac45f52d",
   "metadata": {},
   "source": [
    "# SEMANA 05\n",
    "    Vasquez Leyva Antony"
   ]
  },
  {
   "cell_type": "markdown",
   "id": "fcf99935",
   "metadata": {},
   "source": [
    "# TEMAS:\n",
    "1. Números\n",
    "2. Variables\n",
    "3. Manejo de Cadenas\n",
    "4. Ingreso de datos por teclado\n",
    "5. Operadores"
   ]
  },
  {
   "cell_type": "code",
   "execution_count": 1,
   "id": "40d3ed85",
   "metadata": {},
   "outputs": [
    {
     "ename": "SyntaxError",
     "evalue": "invalid syntax (Temp/ipykernel_11128/2467153779.py, line 1)",
     "output_type": "error",
     "traceback": [
      "\u001b[1;36m  File \u001b[1;32m\"C:\\Users\\ANTONY\\AppData\\Local\\Temp/ipykernel_11128/2467153779.py\"\u001b[1;36m, line \u001b[1;32m1\u001b[0m\n\u001b[1;33m    1. Números\u001b[0m\n\u001b[1;37m       ^\u001b[0m\n\u001b[1;31mSyntaxError\u001b[0m\u001b[1;31m:\u001b[0m invalid syntax\n"
     ]
    }
   ],
   "source": [
    "1. Números"
   ]
  },
  {
   "cell_type": "code",
   "execution_count": 2,
   "id": "adbcbea6",
   "metadata": {},
   "outputs": [
    {
     "data": {
      "text/plain": [
       "9"
      ]
     },
     "execution_count": 2,
     "metadata": {},
     "output_type": "execute_result"
    }
   ],
   "source": [
    "4+5"
   ]
  },
  {
   "cell_type": "code",
   "execution_count": 3,
   "id": "5d17b69e",
   "metadata": {},
   "outputs": [
    {
     "data": {
      "text/plain": [
       "2.0"
      ]
     },
     "execution_count": 3,
     "metadata": {},
     "output_type": "execute_result"
    }
   ],
   "source": [
    "4/2"
   ]
  },
  {
   "cell_type": "code",
   "execution_count": null,
   "id": "871baff5",
   "metadata": {},
   "outputs": [],
   "source": []
  }
 ],
 "metadata": {
  "kernelspec": {
   "display_name": "Python 3 (ipykernel)",
   "language": "python",
   "name": "python3"
  },
  "language_info": {
   "codemirror_mode": {
    "name": "ipython",
    "version": 3
   },
   "file_extension": ".py",
   "mimetype": "text/x-python",
   "name": "python",
   "nbconvert_exporter": "python",
   "pygments_lexer": "ipython3",
   "version": "3.9.7"
  }
 },
 "nbformat": 4,
 "nbformat_minor": 5
}
