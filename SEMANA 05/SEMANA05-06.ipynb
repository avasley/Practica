{
 "cells": [
  {
   "cell_type": "markdown",
   "id": "ad24f382",
   "metadata": {},
   "source": [
    "# Semana 05\n",
    "Vasquez Leyva Antony"
   ]
  },
  {
   "cell_type": "markdown",
   "id": "0a6dc1b4",
   "metadata": {},
   "source": [
    "# Temas:\n",
    "7. Colecciones de datos\n",
    "8. estructuras decisivas y estructuras repetitivas\n",
    "9. Clases y objetos\n",
    "10. Funciones"
   ]
  },
  {
   "cell_type": "markdown",
   "id": "2b891868",
   "metadata": {},
   "source": [
    "5.7 Colecciones de Datos"
   ]
  },
  {
   "cell_type": "code",
   "execution_count": 10,
   "id": "b3e7195e",
   "metadata": {},
   "outputs": [
    {
     "name": "stdout",
     "output_type": "stream",
     "text": [
      "['Vasquez', 'Ruiz', 'Campos', 'Quintana']\n"
     ]
    }
   ],
   "source": [
    "# Listas\n",
    "# Es una colección de elementos que puede ser ordenada, modificada, etc....\n",
    "# Se identifica por los carchetes\n",
    "# Ejemplo:\n",
    "aula = [\"Vasquez\", \"Ruiz\", \"Campos\", \"Quintana\"]\n",
    "print(aula)"
   ]
  },
  {
   "cell_type": "code",
   "execution_count": 11,
   "id": "4407cf38",
   "metadata": {},
   "outputs": [],
   "source": [
    "# También se puede imprimir con solo mencionar la lista"
   ]
  },
  {
   "cell_type": "code",
   "execution_count": 12,
   "id": "106efa8a",
   "metadata": {},
   "outputs": [
    {
     "data": {
      "text/plain": [
       "['Vasquez', 'Ruiz', 'Campos', 'Quintana']"
      ]
     },
     "execution_count": 12,
     "metadata": {},
     "output_type": "execute_result"
    }
   ],
   "source": [
    "aula"
   ]
  },
  {
   "cell_type": "code",
   "execution_count": 13,
   "id": "b1a2e031",
   "metadata": {},
   "outputs": [],
   "source": [
    "# Podemos extraer cada elemento por su posición"
   ]
  },
  {
   "cell_type": "code",
   "execution_count": 14,
   "id": "330fae1f",
   "metadata": {},
   "outputs": [
    {
     "name": "stdout",
     "output_type": "stream",
     "text": [
      "Vasquez\n",
      "Ruiz\n"
     ]
    }
   ],
   "source": [
    "print(aula[0])\n",
    "print(aula[1])"
   ]
  },
  {
   "cell_type": "code",
   "execution_count": 15,
   "id": "f75d743d",
   "metadata": {},
   "outputs": [
    {
     "data": {
      "text/plain": [
       "'Sayas'"
      ]
     },
     "execution_count": 15,
     "metadata": {},
     "output_type": "execute_result"
    }
   ],
   "source": [
    "# Puede asignar un valor a una posición de la lista\n",
    "aula[1] = \"Sayas\"\n",
    "aula[1]"
   ]
  },
  {
   "cell_type": "code",
   "execution_count": 16,
   "id": "9387de08",
   "metadata": {},
   "outputs": [
    {
     "data": {
      "text/plain": [
       "['Vasquez', 'Sayas', 'Campos', 'Quintana']"
      ]
     },
     "execution_count": 16,
     "metadata": {},
     "output_type": "execute_result"
    }
   ],
   "source": [
    "# Mostramos como quedó la lista\n",
    "aula"
   ]
  },
  {
   "cell_type": "code",
   "execution_count": 17,
   "id": "a19a3071",
   "metadata": {},
   "outputs": [
    {
     "data": {
      "text/plain": [
       "['Vasquez', 'Sayas', 'Campos', 'Quintana', 'Ruiz', 'Gomez']"
      ]
     },
     "execution_count": 17,
     "metadata": {},
     "output_type": "execute_result"
    }
   ],
   "source": [
    "# Para agregar un elemento utilizamos .append\n",
    "aula.append(\"Ruiz\")\n",
    "aula.append(\"Gomez\")\n",
    "aula"
   ]
  },
  {
   "cell_type": "code",
   "execution_count": 19,
   "id": "7e6a5677",
   "metadata": {},
   "outputs": [],
   "source": [
    "# Para eliminar elementos utilizamos remove()\n",
    "aula.remove(\"Sayas\")"
   ]
  },
  {
   "cell_type": "code",
   "execution_count": 20,
   "id": "959270e9",
   "metadata": {},
   "outputs": [
    {
     "data": {
      "text/plain": [
       "['Vasquez', 'Campos', 'Quintana', 'Ruiz', 'Gomez']"
      ]
     },
     "execution_count": 20,
     "metadata": {},
     "output_type": "execute_result"
    }
   ],
   "source": [
    "aula"
   ]
  },
  {
   "cell_type": "code",
   "execution_count": 21,
   "id": "58382ffb",
   "metadata": {},
   "outputs": [],
   "source": [
    "# Si huniera varios elementos de valores iguales se elimina la primera coincidencia\n",
    "aula.append(\"Ruiz\")"
   ]
  },
  {
   "cell_type": "code",
   "execution_count": 22,
   "id": "fa8bb172",
   "metadata": {},
   "outputs": [
    {
     "data": {
      "text/plain": [
       "['Vasquez', 'Campos', 'Quintana', 'Gomez', 'Ruiz']"
      ]
     },
     "execution_count": 22,
     "metadata": {},
     "output_type": "execute_result"
    }
   ],
   "source": [
    "aula.remove(\"Ruiz\")\n",
    "aula"
   ]
  },
  {
   "cell_type": "code",
   "execution_count": 23,
   "id": "63609006",
   "metadata": {},
   "outputs": [
    {
     "data": {
      "text/plain": [
       "5"
      ]
     },
     "execution_count": 23,
     "metadata": {},
     "output_type": "execute_result"
    }
   ],
   "source": [
    "# Para obtener el tamaño utilizamos len()\n",
    "len(aula)"
   ]
  },
  {
   "cell_type": "code",
   "execution_count": 24,
   "id": "766a193a",
   "metadata": {},
   "outputs": [
    {
     "name": "stdout",
     "output_type": "stream",
     "text": [
      "Vasquez\n",
      "Campos\n",
      "Quintana\n",
      "Gomez\n",
      "Ruiz\n"
     ]
    }
   ],
   "source": [
    "# Para recorrer podemos utilizar una estructura repetitiva\n",
    "for alumno in aula:\n",
    "    print(alumno)"
   ]
  },
  {
   "cell_type": "code",
   "execution_count": 25,
   "id": "a0d58df7",
   "metadata": {},
   "outputs": [
    {
     "data": {
      "text/plain": [
       "['Ruiz', 'Gomez', 'Quintana', 'Campos', 'Vasquez']"
      ]
     },
     "execution_count": 25,
     "metadata": {},
     "output_type": "execute_result"
    }
   ],
   "source": [
    "# Para invertir la lista utilzamos reverse()\n",
    "# Invertir no significa ordenar en forma de sin invertir la lista descendente\n",
    "aula.reverse()\n",
    "aula"
   ]
  },
  {
   "cell_type": "code",
   "execution_count": 26,
   "id": "a88df164",
   "metadata": {},
   "outputs": [
    {
     "data": {
      "text/plain": [
       "['Campos', 'Gomez', 'Quintana', 'Ruiz', 'Vasquez']"
      ]
     },
     "execution_count": 26,
     "metadata": {},
     "output_type": "execute_result"
    }
   ],
   "source": [
    "# Para ordenar una lista utilizamos sort()\n",
    "aula.sort()\n",
    "aula"
   ]
  },
  {
   "cell_type": "code",
   "execution_count": 27,
   "id": "8401c400",
   "metadata": {},
   "outputs": [
    {
     "data": {
      "text/plain": [
       "('Vasquez', 'Ruiz', 'Campos', 'Quintana')"
      ]
     },
     "execution_count": 27,
     "metadata": {},
     "output_type": "execute_result"
    }
   ],
   "source": [
    "# Tuplas\n",
    "# Es una colección de elementos ordenada (ordenado significa que tiene un indice)que no se puede modificar, es inalterable.\n",
    "# No se puede agregar elementos ni eliminar.\n",
    "# Se identifica por los paréntesis.\n",
    "tupla_aula = (\"Vasquez\", \"Ruiz\", \"Campos\", \"Quintana\")\n",
    "tupla_aula"
   ]
  },
  {
   "cell_type": "code",
   "execution_count": null,
   "id": "02df2209",
   "metadata": {},
   "outputs": [],
   "source": []
  }
 ],
 "metadata": {
  "kernelspec": {
   "display_name": "Python 3 (ipykernel)",
   "language": "python",
   "name": "python3"
  },
  "language_info": {
   "codemirror_mode": {
    "name": "ipython",
    "version": 3
   },
   "file_extension": ".py",
   "mimetype": "text/x-python",
   "name": "python",
   "nbconvert_exporter": "python",
   "pygments_lexer": "ipython3",
   "version": "3.9.7"
  }
 },
 "nbformat": 4,
 "nbformat_minor": 5
}
