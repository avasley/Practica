{
 "cells": [
  {
   "cell_type": "markdown",
   "id": "9f16fd3b",
   "metadata": {},
   "source": [
    "# Semana 05\n",
    "Vasquez Leyva Antony\n"
   ]
  },
  {
   "cell_type": "markdown",
   "id": "b1c89aa5",
   "metadata": {},
   "source": [
    "# TEMAS:\n",
    "1. Números\n",
    "2. Variables\n",
    "3. Manejo de Cadenas\n",
    "4. Ingreso de datos por teclado\n",
    "5. Operadores"
   ]
  },
  {
   "cell_type": "markdown",
   "id": "b941384e",
   "metadata": {},
   "source": [
    "4. Ingreso de datos por teclado."
   ]
  },
  {
   "cell_type": "code",
   "execution_count": 1,
   "id": "b6e20666",
   "metadata": {},
   "outputs": [
    {
     "name": "stdout",
     "output_type": "stream",
     "text": [
      "¿Cual es tu nombre?\n",
      "Antony \n",
      "holaAntony \n"
     ]
    }
   ],
   "source": [
    "# Función input()\n",
    "print(\"¿Cual es tu nombre?\")\n",
    "nombre = input()\n",
    "print(\"Hola \" + nombre)"
   ]
  },
  {
   "cell_type": "code",
   "execution_count": 3,
   "id": "b544ebcb",
   "metadata": {},
   "outputs": [
    {
     "name": "stdout",
     "output_type": "stream",
     "text": [
      "numero 1: \n",
      "4\n",
      "numero 2: \n",
      "5\n",
      "El resultado es 9\n"
     ]
    }
   ],
   "source": [
    "# Cuando ingresa un valor pro teclado lo hace como cadena\n",
    "print(\"numero 1: \")\n",
    "numero1 = input()\n",
    "print(\"numero 2: \")\n",
    "numero2 = input()\n",
    "numero3 = int(numero1) + int(numero2)\n",
    "print(f\"El resultado es {numero3}\")"
   ]
  },
  {
   "cell_type": "code",
   "execution_count": null,
   "id": "1cb0f744",
   "metadata": {},
   "outputs": [],
   "source": []
  }
 ],
 "metadata": {
  "kernelspec": {
   "display_name": "Python 3 (ipykernel)",
   "language": "python",
   "name": "python3"
  },
  "language_info": {
   "codemirror_mode": {
    "name": "ipython",
    "version": 3
   },
   "file_extension": ".py",
   "mimetype": "text/x-python",
   "name": "python",
   "nbconvert_exporter": "python",
   "pygments_lexer": "ipython3",
   "version": "3.9.7"
  }
 },
 "nbformat": 4,
 "nbformat_minor": 5
}
