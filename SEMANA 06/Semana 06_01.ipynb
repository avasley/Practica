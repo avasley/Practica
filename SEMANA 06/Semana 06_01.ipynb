{
 "cells": [
  {
   "cell_type": "markdown",
   "id": "d2c38e5d",
   "metadata": {},
   "source": [
    "# SEMANA 06\n",
    "Vasquez Leyva Antony \n",
    "\n",
    "Tema: Bucles y Condiciones\n"
   ]
  },
  {
   "cell_type": "code",
   "execution_count": 1,
   "id": "9666ac0e",
   "metadata": {},
   "outputs": [],
   "source": [
    "# Estructuras Decisivas(if,elif,else)"
   ]
  },
  {
   "cell_type": "code",
   "execution_count": 2,
   "id": "868b94d4",
   "metadata": {},
   "outputs": [],
   "source": [
    "#if\n",
    "# Problema: dado el precio de 3 productos ingresados por el teclado,aplicar un descuento del 10% si lo\n",
    "# venta es mayor o igual a 1000"
   ]
  },
  {
   "cell_type": "code",
   "execution_count": 3,
   "id": "d7c4682a",
   "metadata": {},
   "outputs": [],
   "source": [
    "# solución"
   ]
  },
  {
   "cell_type": "code",
   "execution_count": 4,
   "id": "e344e476",
   "metadata": {},
   "outputs": [
    {
     "name": "stdout",
     "output_type": "stream",
     "text": [
      "Producto 1:  1000\n",
      "Producto 2:  20\n",
      "Producto 3:  30\n",
      "El monto a pagar es: 945.0\n"
     ]
    }
   ],
   "source": [
    "P1 = float(input(\"Producto 1:  \"))\n",
    "P2 = float(input(\"Producto 2:  \"))\n",
    "P3 = float(input(\"Producto 3:  \"))\n",
    "total = P1 + P2 + P3\n",
    "if total>=1000:\n",
    "    total*=0.9\n",
    "    print(f\"El monto a pagar es: {total}\")\n",
    "    "
   ]
  },
  {
   "cell_type": "code",
   "execution_count": 5,
   "id": "7b0f652f",
   "metadata": {},
   "outputs": [],
   "source": [
    "# IF-ELSE"
   ]
  },
  {
   "cell_type": "code",
   "execution_count": 6,
   "id": "2d932c42",
   "metadata": {},
   "outputs": [],
   "source": [
    "# Problema 01 (Recordando)\n",
    "#Dado una lista de [Ruiz, Campos, Quintana, Vasquez, Acuña, Condori, Hinostroza, Chavez, Vera, Zevallos, Reyes, Sayas, Trigo, Contreras]\n",
    "# Diseñar el código que muestre si el apellido de un estudiante(ingreso por teclado) forma parte de la lista."
   ]
  },
  {
   "cell_type": "code",
   "execution_count": 9,
   "id": "b5cf4cd9",
   "metadata": {},
   "outputs": [
    {
     "name": "stdout",
     "output_type": "stream",
     "text": [
      "Ingresa apellido a buscar: Campos\n",
      "No está en la lista de LP3\n"
     ]
    }
   ],
   "source": [
    "#Solución:\n",
    "LP3 = [\"Ruiz\", \"Campos\", \"Quintana\", \"Vasquez\", \"Acuña\", \"Condori\", \"Hinostroza\", \"Chavez\", \"Vera\", \"Zevallos\", \"Reyes\", \"Sayas\", \"Trigo\", \"Contreras\"]\n",
    "apellido = input(\"Ingresa apellido a buscar: \")\n",
    "# Como los datos de la lista estan en mayuscula, utilizo upper()\n",
    "if apellido.upper() in LP3:\n",
    "    print(\"Si está en la lista de LP3\")\n",
    "else:\n",
    "    print(\"No está en la lista de LP3\")"
   ]
  },
  {
   "cell_type": "code",
   "execution_count": 10,
   "id": "7320384a",
   "metadata": {},
   "outputs": [
    {
     "name": "stdout",
     "output_type": "stream",
     "text": [
      "Ingrese el importe total que realizo: 4333\n",
      "Categoria C\n"
     ]
    }
   ],
   "source": [
    "# Problema 02\n",
    "# Dado el importe total de ventas realizadas por un trabajador (ingresado por teclado)\n",
    "# categorizar que tipo de empleado es, considerando la siguiente tabla:\n",
    "\n",
    "# Categoria: A ->[0, 1000]\n",
    "# Categoria: B -><1000, 2000]\n",
    "# Categoria: C -> <2000, 5000]\n",
    "# Categoria: D -> <5000, Mas]\n",
    "\n",
    "# Solución:\n",
    "ventas = float(input(\"Ingrese el importe total que realizo: \"))\n",
    "if ventas < 0:\n",
    "    print(\"Datos erroneos\")\n",
    "else:\n",
    "    if ventas <= 1000 :\n",
    "        print(\"Categoria A\")\n",
    "    else:\n",
    "        if ventas <= 2000:\n",
    "            print(\"Categoria B\")\n",
    "        else: \n",
    "            if ventas <= 5000:\n",
    "                print(\"Categoria C\")\n",
    "            else:\n",
    "                print(\"Categoria D\")"
   ]
  },
  {
   "cell_type": "code",
   "execution_count": 12,
   "id": "11724c15",
   "metadata": {},
   "outputs": [
    {
     "name": "stdout",
     "output_type": "stream",
     "text": [
      "Importe de ventas realizadas:  10000\n",
      "Categoria D\n"
     ]
    }
   ],
   "source": [
    "#elif\n",
    "# Problema 03, solucionar el problema anterior utilizando elif\n",
    "\n",
    "# Dado el importe total de ventas realizadas por un trabajador (ingresado por teclado)\n",
    "# categorizar que tipo de empleado es, considerando la siguiente tabla:\n",
    "\n",
    "# Categoria: A ->[0, 1000]\n",
    "# Categoria: B -><1000, 2000]\n",
    "# Categoria: C -> <2000, 5000]\n",
    "# Categoria: D -> <5000, Mas]\n",
    "#solucion:\n",
    "\n",
    "ventas = float(input(\"Importe de ventas realizadas:  \"))\n",
    "if ventas < 0:\n",
    "    print(\"Datos erroneos\")\n",
    "elif ventas <= 1000:\n",
    "    print(\"Categoria A\")\n",
    "elif ventas <= 2000:\n",
    "    print(\"Categoria B\")\n",
    "elif ventas <= 5000:\n",
    "    print(\"Categoria C\")\n",
    "else:\n",
    "    print(\"Categoria D\")"
   ]
  },
  {
   "cell_type": "code",
   "execution_count": 13,
   "id": "9e6c536a",
   "metadata": {},
   "outputs": [],
   "source": [
    "# Estructuras Repetitivas\n",
    "# for\n",
    "#PROBLEMA 01:\n",
    "# Mostrar los elementos de una lista for\n",
    "# solución:"
   ]
  },
  {
   "cell_type": "code",
   "execution_count": 14,
   "id": "c5a81bd1",
   "metadata": {},
   "outputs": [
    {
     "name": "stdout",
     "output_type": "stream",
     "text": [
      "Acuña\n",
      "Chavez\n",
      "Condori\n",
      "Contreras\n"
     ]
    }
   ],
   "source": [
    "aula = [\"Acuña\", \"Chavez\", \"Condori\", \"Contreras\"]\n",
    "\n",
    "# Por cada alumno que está en la lista, imprimir alumno\n",
    "for alumno in aula:\n",
    "    print(alumno)\n",
    "    "
   ]
  },
  {
   "cell_type": "code",
   "execution_count": 15,
   "id": "764578fb",
   "metadata": {},
   "outputs": [
    {
     "name": "stdout",
     "output_type": "stream",
     "text": [
      "Ingrese cadena: En todo tiempo ama el amigo. Prov. 17:17\n",
      "E\n",
      "n\n",
      " \n",
      "t\n",
      "o\n",
      "d\n",
      "o\n",
      " \n",
      "t\n",
      "i\n",
      "e\n",
      "m\n",
      "p\n",
      "o\n",
      " \n",
      "a\n",
      "m\n",
      "a\n",
      " \n",
      "e\n",
      "l\n",
      " \n",
      "a\n",
      "m\n",
      "i\n",
      "g\n",
      "o\n",
      ".\n",
      " \n",
      "P\n",
      "r\n",
      "o\n",
      "v\n",
      ".\n",
      " \n",
      "1\n",
      "7\n",
      ":\n",
      "1\n",
      "7\n"
     ]
    }
   ],
   "source": [
    "#Problema 02:\n",
    "# Dado la cadena ingresado por teclado, mostrar cada caracter, utilizando for.\n",
    "# Solución:\n",
    "cadena = input(\"Ingrese cadena: \")\n",
    "for caracter in cadena:\n",
    "    print(caracter)"
   ]
  },
  {
   "cell_type": "code",
   "execution_count": 16,
   "id": "a8096d07",
   "metadata": {},
   "outputs": [
    {
     "data": {
      "text/plain": [
       "range(0, 5)"
      ]
     },
     "execution_count": 16,
     "metadata": {},
     "output_type": "execute_result"
    }
   ],
   "source": [
    "# Para generar rangos de números utilizamos range()\n",
    "range(5)"
   ]
  },
  {
   "cell_type": "code",
   "execution_count": 17,
   "id": "76ba2534",
   "metadata": {},
   "outputs": [
    {
     "name": "stdout",
     "output_type": "stream",
     "text": [
      "0\n",
      "1\n",
      "2\n",
      "3\n",
      "4\n",
      "5\n",
      "6\n",
      "7\n",
      "8\n",
      "9\n",
      "10\n"
     ]
    }
   ],
   "source": [
    "# Problema 03\n",
    "# Imprimir los numeros del 0 al 10\n",
    "for numero in range(11):\n",
    "    print(numero)"
   ]
  },
  {
   "cell_type": "code",
   "execution_count": 18,
   "id": "c4d408c4",
   "metadata": {},
   "outputs": [
    {
     "name": "stdout",
     "output_type": "stream",
     "text": [
      "5\n",
      "6\n",
      "7\n",
      "8\n",
      "9\n",
      "10\n"
     ]
    }
   ],
   "source": [
    "# problema 04\n",
    "# Imprimir los numeros del 5 a 10, utilizando for\n",
    "for numero in range(5,11):\n",
    "    print(numero)"
   ]
  },
  {
   "cell_type": "code",
   "execution_count": 19,
   "id": "f85298a1",
   "metadata": {},
   "outputs": [
    {
     "name": "stdout",
     "output_type": "stream",
     "text": [
      "10\n",
      "12\n",
      "14\n",
      "16\n",
      "18\n",
      "20\n"
     ]
    }
   ],
   "source": [
    "#Problema 05\n",
    "# Imprimir los numeros de 10 a 20, que valla de dos en dos utilizando for\n",
    "for numero in range(10,22,2):\n",
    "    print(numero)"
   ]
  },
  {
   "cell_type": "code",
   "execution_count": 20,
   "id": "4bf32916",
   "metadata": {},
   "outputs": [
    {
     "name": "stdout",
     "output_type": "stream",
     "text": [
      "Lista inicial:  \n",
      "[10, 20, 5, -10, 100, 0, 50, 17, 2000, -1000, 0]\n",
      "Lista ordenada:\n",
      "[-1000, -10, 0, 0, 5, 10, 17, 20, 50, 100, 2000]\n"
     ]
    }
   ],
   "source": [
    "# Tambien funciona los bucles anidados:\n",
    "# Problema\n",
    "#Dado una lista de numeros, utuilizando el algoritmo de burbuja ordenar de mayor a menor \n",
    "\n",
    "#Codigo en java\n",
    "# package ordenamiento;\n",
    "# public class burbuja {\n",
    "#    public static void main(String[] args) {\n",
    "#        int temp; \n",
    "#        int lista[]={12,5,1,4,10,0};\n",
    "#        for(int i=0;i<lista.length-1;i++){\n",
    "#            for(int j=i+1; j<lista.length; j++){\n",
    "#                if(lista[i]>lista[j]){\n",
    "#                    temp = lista[i];\n",
    "#                    lista[i] = lista[j];\n",
    "#                    lista[j] = temp;\n",
    "#                }                              \n",
    "#            }            \n",
    "#   \n",
    "# Solución\n",
    "print(\"Lista inicial:  \")\n",
    "lista = [10,20,5,-10,100,0,50,17,2000,-1000,0]\n",
    "print(lista)\n",
    "i = 0\n",
    "for i in range(0,len(lista)-1):\n",
    "    for j in range(i+1, len(lista)):\n",
    "        if lista[i]>lista[j]:\n",
    "            temp = lista[i]\n",
    "            lista[i] = lista[j]\n",
    "            lista[j] = temp\n",
    "print(\"Lista ordenada:\")\n",
    "print(lista)\n",
    "\n",
    "        "
   ]
  },
  {
   "cell_type": "code",
   "execution_count": 21,
   "id": "7a177a77",
   "metadata": {},
   "outputs": [
    {
     "name": "stdout",
     "output_type": "stream",
     "text": [
      "1\n",
      "2\n",
      "3\n",
      "4\n",
      "5\n",
      "6\n",
      "7\n",
      "8\n",
      "9\n",
      "10\n"
     ]
    }
   ],
   "source": [
    "# while\n",
    "# Permite ejecutar un conjunto de acciones mientras se cumpla una condición\n",
    "\n",
    "# Ejemplo:\n",
    "numero = 1\n",
    "fin = 10\n",
    "while numero <= fin:\n",
    "    print(numero)\n",
    "    numero+=1"
   ]
  },
  {
   "cell_type": "code",
   "execution_count": null,
   "id": "9290e910",
   "metadata": {},
   "outputs": [],
   "source": []
  }
 ],
 "metadata": {
  "kernelspec": {
   "display_name": "Python 3 (ipykernel)",
   "language": "python",
   "name": "python3"
  },
  "language_info": {
   "codemirror_mode": {
    "name": "ipython",
    "version": 3
   },
   "file_extension": ".py",
   "mimetype": "text/x-python",
   "name": "python",
   "nbconvert_exporter": "python",
   "pygments_lexer": "ipython3",
   "version": "3.9.7"
  }
 },
 "nbformat": 4,
 "nbformat_minor": 5
}
