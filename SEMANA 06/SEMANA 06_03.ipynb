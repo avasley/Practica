{
 "cells": [
  {
   "cell_type": "markdown",
   "id": "3a674137",
   "metadata": {},
   "source": [
    "# SEMANA 06\n",
    "Vasquez Leyva Antony\n",
    "\n",
    "Tema: Clases y objetos"
   ]
  },
  {
   "cell_type": "code",
   "execution_count": 1,
   "id": "301eca42",
   "metadata": {},
   "outputs": [],
   "source": [
    "# Problema 01\n",
    "# Crear la soguiente clase:\n",
    "# - Clase: Persona\n",
    "# - Atributos: Nombre, apellidos, fecha_nacimiento, DNI\n"
   ]
  },
  {
   "cell_type": "code",
   "execution_count": 2,
   "id": "819c90b9",
   "metadata": {},
   "outputs": [],
   "source": [
    "class persona:\n",
    "    nombre = \"\"\n",
    "    apellidos = \"\"\n",
    "    DNI = \"\"\n",
    "    talla = 0\n",
    "    "
   ]
  },
  {
   "cell_type": "code",
   "execution_count": 5,
   "id": "50c66601",
   "metadata": {},
   "outputs": [
    {
     "name": "stdout",
     "output_type": "stream",
     "text": [
      "persona1\n",
      "Nombre: Pablo\n",
      "Apellidos: Perez Prado\n",
      "DNI: 1234667\n",
      "Talla: 1.7\n"
     ]
    }
   ],
   "source": [
    "# Creamos un objeto persona1 de la clase Persona()\n",
    "# y le asignamos valores\n",
    "# Creación del objeto persona1\n",
    "persona1 = persona()\n",
    "\n",
    "# Asignar valores al objeto\n",
    "persona1.nombre = \"Pablo\"\n",
    "persona1.apellidos = \"Perez Prado\"\n",
    "persona1.DNI = \"1234667\"\n",
    "persona1.talla = 1.7\n",
    "\n",
    "# Para mostrar los valores del objeto:\n",
    "print(\"persona1\")\n",
    "print(f\"Nombre: {persona1.nombre}\")\n",
    "print(f\"Apellidos: {persona1.apellidos}\")\n",
    "print(f\"DNI: {persona1.DNI}\")\n",
    "print(f\"Talla: {persona1.talla}\")"
   ]
  },
  {
   "cell_type": "code",
   "execution_count": 6,
   "id": "3f930256",
   "metadata": {},
   "outputs": [],
   "source": [
    "# Para utilizar constructores utilizamos:__init__\n",
    "# ¿Qué es un constructor?\n",
    "# Es un método\n",
    "# Sirve para inicializar valores a una clase"
   ]
  },
  {
   "cell_type": "code",
   "execution_count": 7,
   "id": "3f03ca51",
   "metadata": {},
   "outputs": [],
   "source": [
    "# Problema:\n",
    "# Crear la siguiente clase y utilizar constructores:\n",
    "# Clase: Curso\n",
    "# Atributos: código, nombre, horas, créditos."
   ]
  },
  {
   "cell_type": "code",
   "execution_count": 11,
   "id": "2aebf2fc",
   "metadata": {},
   "outputs": [],
   "source": [
    "# Solución:\n",
    "class curso:\n",
    "    def __init__(self, codigo, nombre, horas, creditos):\n",
    "        self.codigo = codigo\n",
    "        self.nombre = nombre\n",
    "        self.horas = horas\n",
    "        self.creditos = creditos\n",
    "        \n",
    "    def mostrar_datos_curso(self):\n",
    "        print(f\"Curso: {self.nombre}\")\n",
    "        print(f\"Codigo: {self.codigo}\")\n",
    "        print(f\"Horas: {self.horas}\")\n",
    "        print(f\"Creditos: {self.creditos}\")\n",
    "\n",
    "    "
   ]
  },
  {
   "cell_type": "code",
   "execution_count": 12,
   "id": "07b27126",
   "metadata": {},
   "outputs": [],
   "source": [
    "# Creamos el objeto curso1 y le mandamos los parámetros\n",
    "curso1 = curso(\"C0501\", \"LP3\",6,3)"
   ]
  },
  {
   "cell_type": "code",
   "execution_count": 14,
   "id": "a69d0d8e",
   "metadata": {},
   "outputs": [
    {
     "name": "stdout",
     "output_type": "stream",
     "text": [
      "Curso: LP3\n",
      "Codigo: C0501\n",
      "Horas: 6\n",
      "Creditos: 3\n"
     ]
    }
   ],
   "source": [
    "# Mostramos los datos completos del curso, ejecutando el método mostrar_datos_curso()\n",
    "curso1.mostrar_datos_curso();"
   ]
  },
  {
   "cell_type": "code",
   "execution_count": null,
   "id": "522687cd",
   "metadata": {},
   "outputs": [],
   "source": []
  }
 ],
 "metadata": {
  "kernelspec": {
   "display_name": "Python 3 (ipykernel)",
   "language": "python",
   "name": "python3"
  },
  "language_info": {
   "codemirror_mode": {
    "name": "ipython",
    "version": 3
   },
   "file_extension": ".py",
   "mimetype": "text/x-python",
   "name": "python",
   "nbconvert_exporter": "python",
   "pygments_lexer": "ipython3",
   "version": "3.9.7"
  }
 },
 "nbformat": 4,
 "nbformat_minor": 5
}
